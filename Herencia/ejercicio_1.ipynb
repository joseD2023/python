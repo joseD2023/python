{
 "cells": [
  {
   "cell_type": "markdown",
   "id": "273b6765",
   "metadata": {},
   "source": [
    "Ejercicios de Herencia 1"
   ]
  },
  {
   "cell_type": "code",
   "execution_count": null,
   "id": "be77bb48",
   "metadata": {},
   "outputs": [
    {
     "name": "stdout",
     "output_type": "stream",
     "text": [
      "Nombre de mi perro: Miguel\n",
      "Especie de mi Perro: mamifero\n",
      "Raza de mi perro: chihuahua\n"
     ]
    }
   ],
   "source": [
    "# Crea la clase Animal con atributos: nombre, especie\n",
    "# La clase Perro debe heredar de Animal y tener un atributo adicional: raza\n",
    "# Crea una instancia de Perro y muestra todos los atributos\n",
    "\n",
    "class Animal: \n",
    " def __init__(self, nombre, especie):\n",
    "  self.nombre = nombre \n",
    "  self.especie = especie \n",
    "\n",
    "class Perro(Animal): \n",
    " def __init__(self, nombre, especie, raza): \n",
    "  super().__init__(nombre, especie)\n",
    "  self.raza = raza #atributo de la clase perro perteneciente de manera oficial\n",
    "\n",
    "mi_perro1 = Perro(\"Miguel\", \"mamifero\", \"chihuahua\")\n",
    "\n",
    "print(f\"Nombre de mi perro: {mi_perro1.nombre}\")\n",
    "print(f\"Especie de mi Perro: {mi_perro1.especie}\")\n",
    "print(f\"Raza de mi perro: {mi_perro1.raza}\")\n"
   ]
  },
  {
   "cell_type": "code",
   "execution_count": null,
   "id": "20db844a",
   "metadata": {},
   "outputs": [
    {
     "name": "stdout",
     "output_type": "stream",
     "text": [
      "El porcentaje es 4000.0 al salario total es 24000.0\n",
      "Nombre del desarrolador: Jose\n",
      "Lenguaje del Desarrolador: python\n",
      "Salario base del desarrollador: 20000\n"
     ]
    }
   ],
   "source": [
    "# Clase Empleado con atributos: nombre, salario_base\n",
    "# Clase Desarrollador hereda de Empleado y agrega: lenguaje_programacion\n",
    "# Agrega un método en Desarrollador que calcule el salario con bono (20%)\n",
    "# Crea una instancia y usa el método para ver el salario total\n",
    "\n",
    "class Empleado: \n",
    " def __init__(self, nombre, salario_base):\n",
    "  self.nombre = nombre \n",
    "  self.salario_base = salario_base\n",
    "\n",
    "class Desarrollador(Empleado): \n",
    " def __init__(self, nombre, salario_base, lenguaje_programacion): \n",
    "  super().__init__(nombre, salario_base)\n",
    "  self.lenguaje_programacion = lenguaje_programacion\n",
    "\n",
    "#metodo para calcular el salario con bono \n",
    " def salario_con_bono(self): \n",
    "  porcentaje = (20/100) * self.salario_base #calculamos el porcentaje \n",
    "  print(f\"El porcentaje es {porcentaje} al salario total es {self.salario_base + porcentaje}\")\n",
    "\n",
    "\n",
    "\n",
    "\n",
    "desarrollador_1 = Desarrollador(\"Jose\", 20000, \"python\")\n",
    "desarrollador_1.salario_con_bono()\n",
    "\n",
    "print(f\"Nombre del desarrolador: {desarrollador_1.nombre}\")\n",
    "print(f\"Lenguaje del Desarrolador: {desarrollador_1.lenguaje_programacion}\")\n",
    "print(f\"Salario base del desarrollador: {desarrollador_1.salario_base}\")"
   ]
  },
  {
   "cell_type": "code",
   "execution_count": 16,
   "id": "9afee8d6",
   "metadata": {},
   "outputs": [
    {
     "name": "stdout",
     "output_type": "stream",
     "text": [
      "Nombre: 3654210140101\n",
      "Nombre: Jose\n",
      "Nombre: 20\n",
      "Nombre: 202407095\n",
      "Nombre: Ingenieria\n",
      "Nombre: Economica\n"
     ]
    }
   ],
   "source": [
    "# Clase Persona con atributos: cui, nombre, edad\n",
    "# Clase Estudiante hereda de Persona, agrega: carnet, carrera\n",
    "# Clase EstudianteBecado hereda de Estudiante, agrega: tipo_beca\n",
    "# Agrega un método en EstudianteBecado que imprima toda la información\n",
    "# Crea una instancia de EstudianteBecado y muestra sus datos completospa\n",
    "\n",
    "class Persona:\n",
    " def __init__(self, cui, nombre, edad):\n",
    "  self.cui = cui \n",
    "  self.nombre = nombre \n",
    "  self.edad = edad \n",
    "\n",
    "\n",
    "class Estudiante(Persona): \n",
    " def __init__(self, cui, nombre, edad, carnet, carrera): \n",
    "  super().__init__(cui, nombre, edad)\n",
    "  self.carnet = carnet \n",
    "  self.carrera = carrera\n",
    "\n",
    "class EstudianteBecado(Estudiante): \n",
    " def __init__(self, cui, nombre, edad, carnet, carrera, tipo_beca): \n",
    "   super().__init__(cui, nombre, edad, carnet, carrera)\n",
    "   self.tipo_beca = tipo_beca \n",
    "  \n",
    " def mostrar_info(self):\n",
    "   print(f\"Nombre: {self.cui}\")\n",
    "   print(f\"Nombre: {self.nombre}\")\n",
    "   print(f\"Nombre: {self.edad}\")\n",
    "   print(f\"Nombre: {self.carnet}\")\n",
    "   print(f\"Nombre: {self.carrera}\")\n",
    "   print(f\"Nombre: {self.tipo_beca}\")\n",
    "\n",
    "\n",
    "estudiante1 = EstudianteBecado(\"3654210140101\", \"Jose\", 20, \"202407095\", \"Ingenieria\", \"Economica\")\n",
    "\n",
    "estudiante1.mostrar_info()\n",
    "\n",
    "\n"
   ]
  }
 ],
 "metadata": {
  "kernelspec": {
   "display_name": "Python 3",
   "language": "python",
   "name": "python3"
  },
  "language_info": {
   "codemirror_mode": {
    "name": "ipython",
    "version": 3
   },
   "file_extension": ".py",
   "mimetype": "text/x-python",
   "name": "python",
   "nbconvert_exporter": "python",
   "pygments_lexer": "ipython3",
   "version": "3.12.0"
  }
 },
 "nbformat": 4,
 "nbformat_minor": 5
}
