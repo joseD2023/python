{
 "cells": [
  {
   "cell_type": "code",
   "execution_count": null,
   "metadata": {},
   "outputs": [],
   "source": [
    "\n",
    "class Ropa:\n",
    " def __init__(self):\n",
    "  self.marca = \"Willow\"\n",
    "  self.talla = \"M\"\n",
    "  self.color = \"rojo\"\n",
    "\n",
    "camisa = Ropa()\n",
    "\n",
    "print(camisa.marca)\n",
    "print(camisa.talla)"
   ]
  },
  {
   "cell_type": "code",
   "execution_count": null,
   "metadata": {},
   "outputs": [],
   "source": [
    "class Calculadora:\n",
    " def __init__(self, n1, n2):\n",
    "  self.suma = n1 + n2\n",
    "  self.resta = n1 - n2\n",
    "  self.producto = n1 * n2\n",
    "  self.division = n1 / n2\n",
    "\n",
    "operacion = Calculadora(2,2)\n",
    "\n",
    "print(operacion.suma)\n",
    "print(operacion.resta)\n",
    "print(operacion.producto)\n",
    "print(operacion.division)"
   ]
  },
  {
   "cell_type": "code",
   "execution_count": null,
   "metadata": {},
   "outputs": [],
   "source": [
    "class Persona:\n",
    " def __init__(self):\n",
    "  self.edad = 27\n",
    "  self.nombre = \"Victor\"\n",
    "  self.pais = \"Guatemala\"\n",
    "\n",
    "doctor = Persona()\n",
    "print(doctor.nombre)\n",
    "print(\"El doctor tiene una edad?\", hasattr(doctor, \"edad\")) # La funcion hasattr, nos indica si algo existe en una clase, cuando utilizamos nuestras instancias. lo vamos a utilizar si existe un atributo en la clase\n",
    "print(\"El doctor tiene un apellido?\", hasattr(doctor, \"apellido\"))\n",
    "print(\"El nuevo nombre es--------------------\")\n",
    "setattr(doctor, \"nombre\", \"Jose\") #para cambiarlo no guardarlo en una variable o imprimirlo directamente en pantalla. \n",
    "print(doctor.nombre) #podemos cambiar los valores d elos atributos con la funcion stattr.\n",
    "\n",
    "print(\"+--- ELIMINAR EL ATRIBUTO DEL OBJETO ---+\")\n",
    "print(doctor.pais)\n",
    "delattr(Persona, \"pais\") #Podemos eliminar un atributo de un objeto. \n",
    "\n",
    "try:\n",
    "    print(doctor.pais)\n",
    "except AttributeError as e:\n",
    "    print(\"Existe un error después de eliminar el atributo:\", e)\n"
   ]
  },
  {
   "cell_type": "code",
   "execution_count": 18,
   "metadata": {},
   "outputs": [
    {
     "name": "stdout",
     "output_type": "stream",
     "text": [
      "su nombre es: Jose De La Rosa, y tiene 19 años.\n",
      "El doctor, Jose De La Rosa, dijo Te amo Dios\n"
     ]
    }
   ],
   "source": [
    "#METODO CONSTRUCTOR\n",
    "class Persona:\n",
    " def __init__(self, nombre, año):\n",
    "  self.nombre = nombre \n",
    "  self.año = año \n",
    "\n",
    " def descripcion(self):\n",
    "  return f\"su nombre es: {self.nombre}, y tiene {self.año} años.\"\n",
    "\n",
    " def comentario(self, frase):\n",
    "  return f\"El doctor, {self.nombre}, dijo {frase}\"\n",
    "\n",
    "doctor = Persona(\"Jose De La Rosa\", 19)\n",
    "\n",
    "print(doctor.descripcion())\n",
    "print(doctor.comentario(\"Te amo Dios\"))"
   ]
  },
  {
   "cell_type": "code",
   "execution_count": 20,
   "metadata": {},
   "outputs": [
    {
     "name": "stdout",
     "output_type": "stream",
     "text": [
      "False\n",
      "True\n"
     ]
    }
   ],
   "source": [
    "#MODIFICAR UN ATRIBUTO \n",
    "\n",
    "class Email:\n",
    " def __init__(self):\n",
    "  self.enviado = False \n",
    " def enviar_correro(self):\n",
    "  self.enviado = True \n",
    "\n",
    "mi_correo = Email()\n",
    "\n",
    "print(mi_correo.enviado) #aqui imprimimos false porque llamamos antes al atributo en enviado que tiene como false su almacenamiento, pero si vemos y llamamos a la funcion o metodo este lo convierte en TRUE a lo que hace referencia si volvemos a llamar \n",
    "mi_correo.enviar_correro() #al llamar a la funcion estamos diciendo que lo convierta a True \n",
    "print(mi_correo.enviado) #aqui ya esta en True porque llamamos a al metodo para que cambiara su valor. \n",
    " "
   ]
  },
  {
   "cell_type": "code",
   "execution_count": 1,
   "metadata": {},
   "outputs": [
    {
     "name": "stdout",
     "output_type": "stream",
     "text": [
      "El nombre del pokemon es Josechu, y el tipo de poder es Electrico y su ataque favorito es ultra_trueno\n",
      "El nombre del pokemon es Josechu, y el tipo de poder es Electrico\n"
     ]
    }
   ],
   "source": [
    "#HERENCIA \n",
    "\n",
    "class Pokemon:\n",
    " def __init__(self, nombre, tipo):\n",
    "  self.nombre = nombre \n",
    "  self.tipo = tipo #tipo agua o electrico o fuego \n",
    "\n",
    " def descripcion_pokemon(self):\n",
    "  return f\"El nombre del pokemon es {self.nombre}, y el tipo de poder es {self.tipo}\"\n",
    "\n",
    "#Vamos a crear una nueva clase\n",
    "\n",
    "class Pikachu(Pokemon):\n",
    "    def __init__(self, nombre, tipo, tipo_ataque):\n",
    "        super().__init__(nombre, tipo)\n",
    "        self.tipo_ataque = tipo_ataque\n",
    "\n",
    "    def ataque_pikachu(self):\n",
    "     return f\"{self.descripcion_pokemon()} y su ataque favorito es {self.tipo_ataque}\"\n",
    "\n",
    "class Charmander(Pokemon):\n",
    " def __init__(self, nombre, tipo, tipo_ataque):\n",
    "      super().__init__(nombre, tipo)\n",
    "      self.tipo_ataque = tipo_ataque\n",
    "\n",
    " def ataque_charmander(self):\n",
    "  return f\"{self.descripcion_pokemon()} y su ataque favorito es {self.tipo_ataque}\" #cuando queremos llamar un metodo de otra clase dentro de otra clase usamos self.nombre_del_metodo, asi python lo va a distinguir y ya luego nosotros podemos llamar al metodo dentro de un metodo. \n",
    "\n",
    "\n",
    "#AHORA CREAREMOS LAS INSTANCIAS QUE QUEREMOS TRABAJAR, SUPONGAMOS QUE QUEREMOS CREAR UN NUEVO PIKACHU\n",
    "\n",
    "nuevo_pokemon = Pikachu(\"Josechu\", \"Electrico\", \"ultra_trueno\")\n",
    "\n",
    "print(nuevo_pokemon.ataque_pikachu())\n",
    "print(nuevo_pokemon.descripcion_pokemon())\n",
    "\n",
    "\n",
    "\n",
    "\n"
   ]
  },
  {
   "cell_type": "code",
   "execution_count": null,
   "metadata": {},
   "outputs": [],
   "source": [
    "#HERENCIA EJEMPLO PRACTICO O EJERCICIO\n",
    "\n",
    "class Calculadora:\n",
    " def __init__(self, numeros):\n",
    "  self.n = numeros \n",
    "  self.datos = [0 for contador in range(numero)]\n",
    "\n",
    " def introductir_valores(self, cantidad)\n",
    " self.datos = [int(input(\"Ingrese datos \" + str(i+1))+ \"=\") for i range(self.n)]\n",
    "\n"
   ]
  },
  {
   "cell_type": "code",
   "execution_count": 26,
   "metadata": {},
   "outputs": [
    {
     "name": "stdout",
     "output_type": "stream",
     "text": [
      "True\n"
     ]
    }
   ],
   "source": [
    "#Herencia (funciones de pruebas)\n",
    "\n",
    "#issubclass(nombre_subclase, nombre_clase_padre)\n",
    "\n",
    "class Vehiculo:\n",
    "    def __init__(self):\n",
    "        self.nombre = \"Toyota\"\n",
    "\n",
    "class Motocicleta(Vehiculo):\n",
    "    def __init__(self):\n",
    "        super().__init__()\n",
    "        self.velocidad = 120 \n",
    "\n",
    "moto1 = Motocicleta()\n",
    "\n",
    "print(issubclass(Motocicleta, Vehiculo))  # Debería dar True porque Motocicleta es hija de la clase Vehiculo\n",
    "\n",
    "print(isinstance(moto1, Vehiculo)) \n",
    "#Por otro lado, la función isinstance(objeto, clase) se utiliza para comprobar si un objeto es una instancia de una clase o una tupla de clases.\n",
    "#En este caso, la expresión imprimirá True, ya que moto1 es una instancia de Motocicleta, y Motocicleta es una subclase de Vehiculo.\n",
    "\n",
    "#La función issubclass(clase, clase_padre) se utiliza para determinar si la clase especificada es una subclase de la clase_padre. Retorna True si es una subclase y False en caso contrario.\n",
    "\n",
    "\n",
    "\n"
   ]
  },
  {
   "cell_type": "code",
   "execution_count": 33,
   "metadata": {},
   "outputs": [
    {
     "name": "stdout",
     "output_type": "stream",
     "text": [
      "Smartphone apagado\n",
      "LLamando...\n",
      "None\n"
     ]
    }
   ],
   "source": [
    "#HERENCIA MULTIPLE. \n",
    "\n",
    "class Telefono:\n",
    " def __init__(self):\n",
    "  pass \n",
    "\n",
    " def llamar(self):\n",
    "  print(\"LLamando...\")\n",
    "\n",
    " def ocupado(self):\n",
    "  print(\"Ocupado....\")\n",
    "\n",
    "class Camara:\n",
    " def __init__(self):\n",
    "  pass \n",
    " def fotografia(self):\n",
    "  return \"Tomando Fotografia...\"\n",
    "  pass \n",
    "\n",
    "class Reproduccion:\n",
    " def __init__(self):\n",
    "  pass\n",
    " def reproduccion_musica(self):\n",
    "  print(\"Reproduciendo Musica...\")\n",
    " def reproduciendo_video(self):\n",
    "  print(\"Reproduciendo Video...\")\n",
    "\n",
    "class Smartphone(Telefono, Camara, Reproduccion):\n",
    " def __del__(self):\n",
    "    print(\"Smartphone apagado\")\n",
    "\n",
    "movil = Smartphone()\n",
    "\n",
    "print(movil.llamar())"
   ]
  },
  {
   "cell_type": "code",
   "execution_count": 34,
   "metadata": {},
   "outputs": [
    {
     "name": "stdout",
     "output_type": "stream",
     "text": [
      "victor, De la rosa, 19\n"
     ]
    }
   ],
   "source": [
    "#CURSO de PYTHON 2020 🐍 f - String\n",
    "\n",
    "class Estudiante:\n",
    " def __init__(self, nombre, apellido, edad):\n",
    "  self.nombre = nombre \n",
    "  self.apellido = apellido\n",
    "  self.edad = edad \n",
    "\n",
    " def __str__(self):\n",
    "  return f\"{self.nombre}, {self.apellido}, {self.edad}\"\n",
    "\n",
    "nuevo_estudiante = Estudiante(\"victor\", \"De la rosa\", 19)\n",
    "\n",
    "print(f\"{nuevo_estudiante}\") #al imprimir me va a salir esto \"victor\", \"De la rosa\", 19, interesante pero veamos mas adelante en que nos puede servir "
   ]
  },
  {
   "cell_type": "code",
   "execution_count": 36,
   "metadata": {},
   "outputs": [
    {
     "name": "stdout",
     "output_type": "stream",
     "text": [
      "Pastel(['Harina', 'leche', 'chocolate'])\n"
     ]
    }
   ],
   "source": [
    "#CURSO de PYTHON 2020 🐍 métodos CLASE Y ESTÁTICOS\n",
    "\n",
    "class Pastel:\n",
    "    def __init__(self, ingredientes):\n",
    "        # Constructor de la clase Pastel. Se inicializa con una lista de ingredientes.\n",
    "        self.ingredientes = ingredientes\n",
    "\n",
    "    def __repr__(self):\n",
    "        # Método especial que devuelve una representación de cadena del objeto.\n",
    "        # Utilizado cuando se imprime el objeto o se llama a str(objeto).\n",
    "        return f\"Pastel({self.ingredientes})\"\n",
    "\n",
    "    @classmethod\n",
    "    def pastel_chocolate(cls):\n",
    "        # Método de clase (classmethod) que crea un pastel de chocolate.\n",
    "        # Utiliza la clase cls para crear una instancia de Pastel con ingredientes específicos.\n",
    "        return cls([\"Harina\", \"leche\", \"chocolate\"])\n",
    "\n",
    "    @classmethod\n",
    "    def pastel_vainilla(cls):\n",
    "        # Método de clase (classmethod) que crea un pastel de vainilla.\n",
    "        # Utiliza la clase cls para crear una instancia de Pastel con ingredientes específicos.\n",
    "        return cls([\"harina\", \"leche\", \"vainilla\"]) #creamos atributos idependientes y no creamos instancias ya que arriba ponemos @classmethod\n",
    "\n",
    "# Crear una instancia de Pastel utilizando el método de clase pastel_chocolate\n",
    "print(Pastel.pastel_chocolate())\n",
    "\n",
    "\n"
   ]
  },
  {
   "cell_type": "code",
   "execution_count": 43,
   "metadata": {},
   "outputs": [
    {
     "name": "stdout",
     "output_type": "stream",
     "text": [
      "314.1592653589793\n"
     ]
    }
   ],
   "source": [
    "#PARTE 2 \n",
    "#METODO ESTATICO \n",
    "import math \n",
    "class Pastel:\n",
    "    def __init__(self, ingredientes, tamaño):\n",
    "        self.ingredientes = ingredientes\n",
    "        self.tamaño = tamaño \n",
    "\n",
    "    def __repr__(self):\n",
    "        return f\"pastel({self.ingredientes}), {self.tamaño}\"\n",
    "\n",
    "    def area(self):\n",
    "        return self.tamaño_area(self.tamaño)\n",
    "\n",
    "    @staticmethod\n",
    "\n",
    "    def tamaño_area(encontrar_area):\n",
    "        return f\"{encontrar_area ** 2 * math.pi}\"\n",
    "\n",
    "nuevo_pastel = Pastel([\"Hariana\", \"azucar\", \"leche\", \"cholate\"], 4)\n",
    "\n",
    "print(nuevo_pastel.tamaño_area(12))\n",
    "\n",
    "\n",
    "\n",
    "\n",
    "\n",
    "\n",
    "\n",
    "\n",
    "\n",
    "\n",
    "\n",
    "        "
   ]
  }
 ],
 "metadata": {
  "kernelspec": {
   "display_name": "Python 3",
   "language": "python",
   "name": "python3"
  },
  "language_info": {
   "codemirror_mode": {
    "name": "ipython",
    "version": 3
   },
   "file_extension": ".py",
   "mimetype": "text/x-python",
   "name": "python",
   "nbconvert_exporter": "python",
   "pygments_lexer": "ipython3",
   "version": "3.12.0"
  }
 },
 "nbformat": 4,
 "nbformat_minor": 2
}
